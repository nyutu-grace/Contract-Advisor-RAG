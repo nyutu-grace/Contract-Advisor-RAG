{
 "cells": [
  {
   "cell_type": "code",
   "execution_count": 1,
   "metadata": {},
   "outputs": [],
   "source": [
    "import os\n",
    "from dotenv import load_dotenv\n",
    "\n",
    "os.environ['LANGCHAIN_TRACING_V2'] = 'true'\n",
    "os.environ['LANGCHAIN_ENDPOINT'] = 'https://api.smith.langchain.com'\n",
    "\n",
    "load_dotenv()\n",
    "OPENAI_API_KEY = os.getenv('OPENAI_API_KEY')\n",
    "LANGCHAIN_API_KEY = os.getenv('LANGCHAIN_API_KEY')"
   ]
  },
  {
   "cell_type": "code",
   "execution_count": 2,
   "metadata": {},
   "outputs": [
    {
     "name": "stderr",
     "output_type": "stream",
     "text": [
      "USER_AGENT environment variable not set, consider setting it to identify your requests.\n"
     ]
    }
   ],
   "source": [
    "#### INDEXING ####\n",
    "\n",
    "# Load blog\n",
    "import bs4\n",
    "from langchain_community.document_loaders import WebBaseLoader\n",
    "loader = WebBaseLoader(\n",
    "    web_paths=(\"https://lilianweng.github.io/posts/2023-06-23-agent/\",),\n",
    "    bs_kwargs=dict(\n",
    "        parse_only=bs4.SoupStrainer(\n",
    "            class_=(\"post-content\", \"post-title\", \"post-header\")\n",
    "        )\n",
    "    ),\n",
    ")\n",
    "blog_docs = loader.load()\n",
    "\n",
    "# Split\n",
    "from langchain.text_splitter import RecursiveCharacterTextSplitter\n",
    "text_splitter = RecursiveCharacterTextSplitter.from_tiktoken_encoder(\n",
    "    chunk_size=300, \n",
    "    chunk_overlap=50)\n",
    "\n",
    "# Make splits\n",
    "splits = text_splitter.split_documents(blog_docs)\n",
    "\n",
    "# Index\n",
    "from langchain_openai import OpenAIEmbeddings\n",
    "from langchain_community.vectorstores import Chroma\n",
    "vectorstore = Chroma.from_documents(documents=splits, \n",
    "                                    embedding=OpenAIEmbeddings())\n",
    "\n",
    "retriever = vectorstore.as_retriever()"
   ]
  },
  {
   "cell_type": "code",
   "execution_count": 4,
   "metadata": {},
   "outputs": [],
   "source": [
    "import fitz  # PyMuPDF\n",
    "from langchain.document_loaders import TextLoader\n",
    "\n",
    "def extract_text_from_pdf(pdf_path):\n",
    "    text = \"\"\n",
    "    with fitz.open(pdf_path) as doc:\n",
    "        for page in doc:\n",
    "            text += page.get_text()\n",
    "    return text"
   ]
  },
  {
   "cell_type": "code",
   "execution_count": 5,
   "metadata": {},
   "outputs": [],
   "source": [
    "contract_text_raptor = extract_text_from_pdf('../data/Evaluation Sets/Raptor Contract.pdf')\n",
    "qa_text_raptor = extract_text_from_pdf('../data/Evaluation Sets/Raptor Q&A.pdf')\n",
    "contract_text_robinson = extract_text_from_pdf('../data/Evaluation Sets/Robinson Advisory.pdf')\n",
    "qa_text_robinson = extract_text_from_pdf('../data/Evaluation Sets/Robinson Q&A.pdf')"
   ]
  },
  {
   "cell_type": "code",
   "execution_count": 6,
   "metadata": {},
   "outputs": [],
   "source": [
    "import re\n",
    "\n",
    "def parse_qa_pairs(text):\n",
    "    # Regular expressions for matching questions and answers\n",
    "    question_pattern = re.compile(r'Q\\d+[a-z]?: (.*?)\\n')\n",
    "    answer_pattern = re.compile(r'A\\d+[a-z]?: (.*?)\\n')\n",
    "    \n",
    "    # Find all questions and answers\n",
    "    questions = question_pattern.findall(text)\n",
    "    answers = answer_pattern.findall(text)\n",
    "    \n",
    "    # Group questions and answers\n",
    "    qa_pairs = []\n",
    "    q_index = 0\n",
    "    a_index = 0\n",
    "    \n",
    "    while q_index < len(questions) and a_index < len(answers):\n",
    "        question = questions[q_index].strip()\n",
    "        answer = answers[a_index].strip()\n",
    "        \n",
    "        # Check if the next question or answer is a sub-question/sub-answer\n",
    "        while (q_index + 1 < len(questions) and re.match(r'Q\\d+[a-z]:', questions[q_index + 1]) or\n",
    "               a_index + 1 < len(answers) and re.match(r'A\\d+[a-z]:', answers[a_index + 1])):\n",
    "            sub_questions = []\n",
    "            sub_answers = []\n",
    "            \n",
    "            # Collect sub-questions\n",
    "            while q_index + 1 < len(questions) and re.match(r'Q\\d+[a-z]:', questions[q_index + 1]):\n",
    "                q_index += 1\n",
    "                sub_questions.append(questions[q_index].strip())\n",
    "            \n",
    "            # Collect sub-answers\n",
    "            while a_index + 1 < len(answers) and re.match(r'A\\d+[a-z]:', answers[a_index + 1]):\n",
    "                a_index += 1\n",
    "                sub_answers.append(answers[a_index].strip())\n",
    "            \n",
    "            question += ' ' + ' '.join(sub_questions)\n",
    "            answer += ' ' + ' '.join(sub_answers)\n",
    "        \n",
    "        # Append the Q&A pair to the list\n",
    "        qa_pairs.append({\"question\": question, \"answer\": answer})\n",
    "        \n",
    "        # Move to the next question and answer\n",
    "        q_index += 1\n",
    "        a_index += 1\n",
    "    \n",
    "    return qa_pairs\n",
    "\n",
    "qa_pairs_raptor = parse_qa_pairs(qa_text_raptor)"
   ]
  },
  {
   "cell_type": "code",
   "execution_count": null,
   "metadata": {},
   "outputs": [],
   "source": []
  }
 ],
 "metadata": {
  "kernelspec": {
   "display_name": "venv",
   "language": "python",
   "name": "python3"
  },
  "language_info": {
   "codemirror_mode": {
    "name": "ipython",
    "version": 3
   },
   "file_extension": ".py",
   "mimetype": "text/x-python",
   "name": "python",
   "nbconvert_exporter": "python",
   "pygments_lexer": "ipython3",
   "version": "3.12.3"
  }
 },
 "nbformat": 4,
 "nbformat_minor": 2
}
